{
 "cells": [
  {
   "cell_type": "code",
   "execution_count": null,
   "metadata": {},
   "outputs": [],
   "source": [
    "import turtle as t\n",
    "pen=t.Turtle()\n",
    "def curve():\n",
    "    for i in range(200):\n",
    "        pen.right(1)\n",
    "        pen.foward(1)\n",
    "def heart():\n",
    "    pen.fillcolor('red')\n",
    "    pen.left(140)\n",
    "    pen.forward(113)\n",
    "    curve()\n",
    "    pen.left(120)\n",
    "    curve()\n",
    "    pen.forward(112)\n",
    "    pen.end_fill()\n",
    "def txt():\n",
    "    pen.up()\n",
    "    pen.setpos(-68,95)\n",
    "    pen.down()\n",
    "    pen.color('green')\n",
    "    pen.write(\"ALEKHYA\",font=(\"verdana\",12,\"bold\"))\n",
    "heart()\n",
    "txt()\n",
    "pen.ht()"
   ]
  }
 ],
 "metadata": {
  "language_info": {
   "name": "python"
  }
 },
 "nbformat": 4,
 "nbformat_minor": 2
}
